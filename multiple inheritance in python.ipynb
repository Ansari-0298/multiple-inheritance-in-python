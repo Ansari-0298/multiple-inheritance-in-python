{
 "cells": [
  {
   "cell_type": "code",
   "execution_count": 3,
   "id": "7282bb04",
   "metadata": {},
   "outputs": [],
   "source": [
    "#multiple inheritance in python"
   ]
  },
  {
   "cell_type": "code",
   "execution_count": 3,
   "id": "dd68083a",
   "metadata": {},
   "outputs": [],
   "source": [
    "class laptop():\n",
    "    def __init__(self,name,price,color,generation):\n",
    "        super(). __init__(name,prie)\n",
    "        self.color=color\n",
    "        self.generation=generation\n",
    "    def show_laptop_details(self):\n",
    "        print(\"name of the laptop\",self.name)\n",
    "        print(\"price of the laptop\",self.price)\n",
    "        print(\"color of the laptop\",self.color)\n",
    "        print(\"generation of the laptop\",self.generation)"
   ]
  },
  {
   "cell_type": "code",
   "execution_count": 5,
   "id": "716cbb9a",
   "metadata": {},
   "outputs": [
    {
     "ename": "NameError",
     "evalue": "name 'prie' is not defined",
     "output_type": "error",
     "traceback": [
      "\u001b[1;31m---------------------------------------------------------------------------\u001b[0m",
      "\u001b[1;31mNameError\u001b[0m                                 Traceback (most recent call last)",
      "\u001b[1;32m<ipython-input-5-8684b5947c73>\u001b[0m in \u001b[0;36m<module>\u001b[1;34m\u001b[0m\n\u001b[1;32m----> 1\u001b[1;33m \u001b[0ml1\u001b[0m\u001b[1;33m=\u001b[0m\u001b[0mlaptop\u001b[0m\u001b[1;33m(\u001b[0m\u001b[1;34m\"asus\"\u001b[0m\u001b[1;33m,\u001b[0m\u001b[1;36m65000\u001b[0m\u001b[1;33m,\u001b[0m\u001b[1;34m\"black\"\u001b[0m\u001b[1;33m,\u001b[0m\u001b[1;34m\"12 generation\"\u001b[0m\u001b[1;33m)\u001b[0m\u001b[1;33m\u001b[0m\u001b[1;33m\u001b[0m\u001b[0m\n\u001b[0m",
      "\u001b[1;32m<ipython-input-3-0bb7451ff8c8>\u001b[0m in \u001b[0;36m__init__\u001b[1;34m(self, name, price, color, generation)\u001b[0m\n\u001b[0;32m      1\u001b[0m \u001b[1;32mclass\u001b[0m \u001b[0mlaptop\u001b[0m\u001b[1;33m(\u001b[0m\u001b[1;33m)\u001b[0m\u001b[1;33m:\u001b[0m\u001b[1;33m\u001b[0m\u001b[1;33m\u001b[0m\u001b[0m\n\u001b[0;32m      2\u001b[0m     \u001b[1;32mdef\u001b[0m \u001b[0m__init__\u001b[0m\u001b[1;33m(\u001b[0m\u001b[0mself\u001b[0m\u001b[1;33m,\u001b[0m\u001b[0mname\u001b[0m\u001b[1;33m,\u001b[0m\u001b[0mprice\u001b[0m\u001b[1;33m,\u001b[0m\u001b[0mcolor\u001b[0m\u001b[1;33m,\u001b[0m\u001b[0mgeneration\u001b[0m\u001b[1;33m)\u001b[0m\u001b[1;33m:\u001b[0m\u001b[1;33m\u001b[0m\u001b[1;33m\u001b[0m\u001b[0m\n\u001b[1;32m----> 3\u001b[1;33m         \u001b[0msuper\u001b[0m\u001b[1;33m(\u001b[0m\u001b[1;33m)\u001b[0m\u001b[1;33m.\u001b[0m \u001b[0m__init__\u001b[0m\u001b[1;33m(\u001b[0m\u001b[0mname\u001b[0m\u001b[1;33m,\u001b[0m\u001b[0mprie\u001b[0m\u001b[1;33m)\u001b[0m\u001b[1;33m\u001b[0m\u001b[1;33m\u001b[0m\u001b[0m\n\u001b[0m\u001b[0;32m      4\u001b[0m         \u001b[0mself\u001b[0m\u001b[1;33m.\u001b[0m\u001b[0mcolor\u001b[0m\u001b[1;33m=\u001b[0m\u001b[0mcolor\u001b[0m\u001b[1;33m\u001b[0m\u001b[1;33m\u001b[0m\u001b[0m\n\u001b[0;32m      5\u001b[0m         \u001b[0mself\u001b[0m\u001b[1;33m.\u001b[0m\u001b[0mgeneration\u001b[0m\u001b[1;33m=\u001b[0m\u001b[0mgeneration\u001b[0m\u001b[1;33m\u001b[0m\u001b[1;33m\u001b[0m\u001b[0m\n",
      "\u001b[1;31mNameError\u001b[0m: name 'prie' is not defined"
     ]
    }
   ],
   "source": [
    "l1=laptop(\"asus\",65000,\"black\",\"12 generation\")"
   ]
  },
  {
   "cell_type": "code",
   "execution_count": 1,
   "id": "4bda1def",
   "metadata": {},
   "outputs": [],
   "source": [
    "class parent1:\n",
    "    def assign_string_one(self,str1):\n",
    "        self.str1=str1\n",
    "    def show_string_one(self):\n",
    "        return self.str1"
   ]
  },
  {
   "cell_type": "code",
   "execution_count": 2,
   "id": "94e67dfb",
   "metadata": {},
   "outputs": [],
   "source": [
    "class parent2:\n",
    "    def assign_string_two(self,str2):\n",
    "        self.str2=str2\n",
    "    def show_string_two(self):\n",
    "        return self.str2"
   ]
  },
  {
   "cell_type": "code",
   "execution_count": 6,
   "id": "d6e1fd06",
   "metadata": {},
   "outputs": [],
   "source": [
    "class child(parent1,parent2):\n",
    "    def assign_string_three(self,str3):\n",
    "        self.str3=str3\n",
    "    def show_string_three(self):\n",
    "        return self.str3    "
   ]
  },
  {
   "cell_type": "code",
   "execution_count": 7,
   "id": "c1eeb6b8",
   "metadata": {},
   "outputs": [],
   "source": [
    "my_child=child()"
   ]
  },
  {
   "cell_type": "code",
   "execution_count": 8,
   "id": "21a31c1d",
   "metadata": {},
   "outputs": [],
   "source": [
    "my_child.assign_string_one(\"i am string of parent one\")"
   ]
  },
  {
   "cell_type": "code",
   "execution_count": 10,
   "id": "08058696",
   "metadata": {},
   "outputs": [],
   "source": [
    "my_child.assign_string_two(\"i am string of parent two\")"
   ]
  },
  {
   "cell_type": "markdown",
   "id": "73624c3e",
   "metadata": {},
   "source": []
  },
  {
   "cell_type": "code",
   "execution_count": 11,
   "id": "84c5c448",
   "metadata": {},
   "outputs": [],
   "source": [
    "my_child.assign_string_three(\"i am string of parent three\")"
   ]
  },
  {
   "cell_type": "code",
   "execution_count": 12,
   "id": "5c4a7da6",
   "metadata": {},
   "outputs": [
    {
     "data": {
      "text/plain": [
       "'i am string of parent one'"
      ]
     },
     "execution_count": 12,
     "metadata": {},
     "output_type": "execute_result"
    }
   ],
   "source": [
    "my_child.show_string_one()"
   ]
  },
  {
   "cell_type": "code",
   "execution_count": 13,
   "id": "e85527a7",
   "metadata": {},
   "outputs": [
    {
     "data": {
      "text/plain": [
       "'i am string of parent three'"
      ]
     },
     "execution_count": 13,
     "metadata": {},
     "output_type": "execute_result"
    }
   ],
   "source": [
    "my_child.show_string_three()"
   ]
  },
  {
   "cell_type": "code",
   "execution_count": 14,
   "id": "a97744e9",
   "metadata": {},
   "outputs": [
    {
     "data": {
      "text/plain": [
       "'i am string of parent two'"
      ]
     },
     "execution_count": 14,
     "metadata": {},
     "output_type": "execute_result"
    }
   ],
   "source": [
    "my_child.show_string_two()"
   ]
  },
  {
   "cell_type": "code",
   "execution_count": null,
   "id": "54406e5a",
   "metadata": {},
   "outputs": [],
   "source": []
  }
 ],
 "metadata": {
  "kernelspec": {
   "display_name": "Python 3",
   "language": "python",
   "name": "python3"
  },
  "language_info": {
   "codemirror_mode": {
    "name": "ipython",
    "version": 3
   },
   "file_extension": ".py",
   "mimetype": "text/x-python",
   "name": "python",
   "nbconvert_exporter": "python",
   "pygments_lexer": "ipython3",
   "version": "3.8.8"
  }
 },
 "nbformat": 4,
 "nbformat_minor": 5
}
